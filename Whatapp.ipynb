{
 "cells": [
  {
   "cell_type": "markdown",
   "id": "fd5cd908",
   "metadata": {},
   "source": [
    "# ✨ Jaras Wa ✨\n",
    "---"
   ]
  },
  {
   "cell_type": "markdown",
   "id": "23b4b579",
   "metadata": {},
   "source": [
    "- Verifikasi data diri dan konfirmasi jika terdapat kesalahan data.\n",
    "- Reminder login menggunakan akun yang telah dibuat panitia.\n",
    "- Memberikan akun kepada para peserta\n",
    "- Memberikan sertifikat kepada para peserta"
   ]
  },
  {
   "cell_type": "code",
   "execution_count": 1,
   "id": "ae051c24",
   "metadata": {},
   "outputs": [],
   "source": [
    "import os\n",
    "import csv\n",
    "import time\n",
    "import pyautogui\n",
    "import random\n",
    "import pywhatkit as pw\n",
    "from datetime import datetime\n",
    "from utils.wa_utils import detect_whatsapp_error, fixNumber\n",
    "\n",
    "# primary config\n",
    "File_name = \"Jaras_NPC.csv\" \n",
    "phone_column = \"number\"\n",
    "message_template = \"\"\"\\\n",
    "Halo {name}!\n",
    "\n",
    "Kami ingin mengucapkan terima kasih atas partisipasi Tim a.n. {name} dalam Schematics NPC 2024.\n",
    "\n",
    "Kami ingin memberikan sertifikat yang terlampir pada email:\n",
    "🔗 : *{email}*\n",
    "\n",
    "Salam,\n",
    "Kesekretariatan Schematics 2025\n",
    "\"\"\"\n",
    "\n",
    "# secondary config\n",
    "delay_awal = 8\n",
    "delay_akhir = 2\n",
    "log_file = \"output/wa_log.txt\"\n",
    "\n",
    "file_path = os.path.join(\"Input\", File_name)"
   ]
  },
  {
   "cell_type": "code",
   "execution_count": 2,
   "id": "fe96348f",
   "metadata": {},
   "outputs": [],
   "source": [
    "with open(file_path, \"r\", encoding=\"utf-8\") as file:\n",
    "    reader = csv.DictReader(file)\n",
    "    for row in reader:\n",
    "        if phone_column not in row:\n",
    "            print(f\"ERROR: Column '{phone_column}' not found.\")\n",
    "            continue\n",
    "        \n",
    "        # make the message\n",
    "        number = fixNumber(row[phone_column])\n",
    "        msg = message_template.format(**row)\n",
    "\n",
    "        # Send message\n",
    "        pw.sendwhatmsg_instantly(number, msg, wait_time=delay_awal, tab_close=False, close_time=delay_akhir)\n",
    "        time.sleep(random.uniform(2.5, 4.5))\n",
    "\n",
    "        # Check for possible errors\n",
    "        status = detect_whatsapp_error(File_name)\n",
    "\n",
    "        time.sleep(random.uniform(0.4, 0.8))\n",
    "        pyautogui.hotkey('ctrl', 'w')\n",
    "\n",
    "        # Logging\n",
    "        with open(log_file, \"a\", encoding=\"utf-8\") as log:\n",
    "            log.write(f\"[{datetime.now().strftime('%Y-%m-%d %H:%M:%S')}] {number} — {status}\\n\")\n",
    "\n",
    "if os.path.exists(\"PyWhatKit_DB.txt\"):\n",
    "    os.remove(\"PyWhatKit_DB.txt\")"
   ]
  },
  {
   "cell_type": "code",
   "execution_count": null,
   "id": "fdb43272",
   "metadata": {},
   "outputs": [],
   "source": []
  }
 ],
 "metadata": {
  "kernelspec": {
   "display_name": "Python 3",
   "language": "python",
   "name": "python3"
  },
  "language_info": {
   "codemirror_mode": {
    "name": "ipython",
    "version": 3
   },
   "file_extension": ".py",
   "mimetype": "text/x-python",
   "name": "python",
   "nbconvert_exporter": "python",
   "pygments_lexer": "ipython3",
   "version": "3.10.0"
  }
 },
 "nbformat": 4,
 "nbformat_minor": 5
}
