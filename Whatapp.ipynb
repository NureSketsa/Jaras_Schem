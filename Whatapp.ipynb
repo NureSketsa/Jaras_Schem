{
 "cells": [
  {
   "cell_type": "markdown",
   "id": "fd5cd908",
   "metadata": {},
   "source": [
    "# ✨ Jaras Wa ✨\n",
    "---"
   ]
  },
  {
   "cell_type": "markdown",
   "id": "23b4b579",
   "metadata": {},
   "source": [
    "- Verifikasi data diri dan konfirmasi jika terdapat kesalahan data.\n",
    "- Reminder login menggunakan akun yang telah dibuat panitia.\n",
    "- Memberikan akun kepada para peserta\n",
    "- Memberikan sertifikat kepada para peserta"
   ]
  },
  {
   "cell_type": "code",
   "execution_count": null,
   "id": "ae051c24",
   "metadata": {},
   "outputs": [],
   "source": [
    "import pyautogui\n",
    "import pywhatkit as pw\n",
    "import time\n",
    "import os\n",
    "import csv\n",
    "from datetime import datetime\n",
    "import random\n",
    "from utils.wa_utils import detect_whatsapp_error, fixNumber\n",
    "\n",
    "File_name = \"Jaras_NPC.csv\" # Ganti dengan nama file csv yang diinginkan\n",
    "\n",
    "file_path = os.path.join(\"Input\", File_name)\n",
    "delay_awal = 8\n",
    "delay_akhir = 2\n",
    "log_file = \"output/wa_log.txt\""
   ]
  },
  {
   "cell_type": "code",
   "execution_count": null,
   "id": "4b28bf30",
   "metadata": {},
   "outputs": [],
   "source": [
    "try:\n",
    "    with open(file_path, \"r\", encoding=\"utf-8\") as data :\n",
    "        read_data = csv.reader(data, delimiter=\",\")\n",
    "        for name, number, email in read_data : # sesuaikan dengan banyaknya kolom\n",
    "            name = name.strip()\n",
    "            number = fixNumber(number)\n",
    "            email = email.strip()\n",
    "\n",
    "            # contoh pesan, sesuaikan dengan kebutuhan\n",
    "            msg = f'''\\\n",
    "Halo, perwakilan tim {name}!\n",
    "\n",
    "Kami ingin mengucapkan terima kasih yang sebesar-besarnya atas partisipasi Tim a.n. {name} dalam rangkaian acara Schematics NPC 2024 \n",
    "\n",
    "kami ingin memberikan sertifikat yang terlampir email berikut ini.\n",
    "🔗 : *{email}*\n",
    "\n",
    "Sampai jumpa pada Schematics Schematics NPC 2025! \n",
    "\n",
    "Salam,\n",
    "Kesekretariatan Schematics 2024.\n",
    "            '''\n",
    "\n",
    "            pw.sendwhatmsg_instantly(number, msg, wait_time=delay_awal, tab_close=False, close_time=delay_akhir)\n",
    "            time.sleep(random.uniform(2.5, 4.5))\n",
    "\n",
    "            status = detect_whatsapp_error(File_name)\n",
    "\n",
    "            time.sleep(random.uniform(0.4, 0.8))\n",
    "            pyautogui.hotkey('ctrl', 'w')\n",
    "\n",
    "            with open(log_file, \"a\", encoding=\"utf-8\") as log:\n",
    "                log.write(f\"[{datetime.now().strftime('%Y-%m-%d %H:%M:%S')}] {number} — {status}\\n\")\n",
    "\n",
    "except FileNotFoundError:\n",
    "    print(\"One or both of the text files are not found.\")\n",
    "\n",
    "except Exception as e:\n",
    "    print(\"An error occurred:\", str(e))\n",
    "\n",
    "if os.path.exists(\"PyWhatKit_DB.txt\"):\n",
    "    os.remove(\"PyWhatKit_DB.txt\")"
   ]
  }
 ],
 "metadata": {
  "kernelspec": {
   "display_name": "Python 3",
   "language": "python",
   "name": "python3"
  },
  "language_info": {
   "codemirror_mode": {
    "name": "ipython",
    "version": 3
   },
   "file_extension": ".py",
   "mimetype": "text/x-python",
   "name": "python",
   "nbconvert_exporter": "python",
   "pygments_lexer": "ipython3",
   "version": "3.10.0"
  }
 },
 "nbformat": 4,
 "nbformat_minor": 5
}
