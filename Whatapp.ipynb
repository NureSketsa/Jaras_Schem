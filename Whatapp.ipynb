{
 "cells": [
  {
   "cell_type": "code",
   "execution_count": 1,
   "id": "52f7c6b6",
   "metadata": {},
   "outputs": [],
   "source": [
    "import os\n",
    "import csv\n",
    "import time\n",
    "import pyautogui\n",
    "import random\n",
    "import pywhatkit as pw\n",
    "from datetime import datetime\n",
    "from utils.wa_utils import detect_whatsapp_error, fixNumber, log_status"
   ]
  },
  {
   "cell_type": "markdown",
   "id": "fd5cd908",
   "metadata": {},
   "source": [
    "# ✨ Jaras Wa ✨\n",
    "---"
   ]
  },
  {
   "cell_type": "markdown",
   "id": "23b4b579",
   "metadata": {},
   "source": [
    "- Verifikasi data diri dan konfirmasi jika terdapat kesalahan data.\n",
    "- Reminder login menggunakan akun yang telah dibuat panitia.\n",
    "- Memberikan akun kepada para peserta\n",
    "- Memberikan sertifikat kepada para peserta"
   ]
  },
  {
   "cell_type": "code",
   "execution_count": 4,
   "id": "ae051c24",
   "metadata": {},
   "outputs": [],
   "source": [
    "# === CONFIGURATION ===\n",
    "File_name = \"Jaras_NPC.csv\" \n",
    "phone_column = \"number\"\n",
    "message_template = \"\"\"\\\n",
    "Halo {name}!\n",
    "\n",
    "Kami ingin mengucapkan terima kasih atas partisipasi Tim a.n. {name} dalam Schematics NPC 2024.\n",
    "\n",
    "Kami ingin memberikan sertifikat yang terlampir pada email:\n",
    "🔗 : *{email}*\n",
    "\n",
    "Salam,\n",
    "Kesekretariatan Schematics 2025\n",
    "\"\"\"\n",
    "# ======================\n",
    "\n",
    "\n",
    "# secondary config\n",
    "delay_awal = 8\n",
    "delay_akhir = 2\n",
    "file_path = os.path.join(\"Input_csv\", File_name)"
   ]
  },
  {
   "cell_type": "code",
   "execution_count": 5,
   "id": "fe96348f",
   "metadata": {},
   "outputs": [
    {
     "name": "stdout",
     "output_type": "stream",
     "text": [
      "sent to +6281247312272 — Jaras_NPC.csv | Success - Message sent or in progress.\n",
      "sent to +628180831159 — Jaras_NPC.csv | ⚠️ Error - Number not registered on WhatsApp.\n"
     ]
    }
   ],
   "source": [
    "with open(file_path, \"r\", encoding=\"utf-8\") as file:\n",
    "    reader = csv.DictReader(file)\n",
    "    for row in reader:\n",
    "        if phone_column not in row:\n",
    "            status = f\"ERROR: Column {phone_column} not found.\"\n",
    "            print(f\"{status}\")\n",
    "            log_status(number, status)\n",
    "            continue\n",
    "        \n",
    "        # make the message\n",
    "        number = fixNumber(row[phone_column])\n",
    "        \n",
    "\n",
    "        try:\n",
    "            msg = message_template.format(**row)\n",
    "        except KeyError as e:\n",
    "            status = f\"ERROR: Missing column\"\n",
    "            print(f\"{status}\")\n",
    "            log_status(number, status)\n",
    "            continue\n",
    "\n",
    "\n",
    "        # Send message\n",
    "        pw.sendwhatmsg_instantly(number, msg, wait_time=delay_awal, tab_close=False, close_time=delay_akhir)\n",
    "        time.sleep(random.uniform(2.5, 4.5))\n",
    "\n",
    "        # Check for possible errors\n",
    "        status = detect_whatsapp_error(File_name)\n",
    "        print(f\"sent to {number} — {status}\")\n",
    "\n",
    "        time.sleep(random.uniform(0.4, 0.8))\n",
    "        pyautogui.hotkey('ctrl', 'w')\n",
    "\n",
    "        # Logging\n",
    "        log_status(number, status)\n",
    "        \n",
    "if os.path.exists(\"PyWhatKit_DB.txt\"):\n",
    "    os.remove(\"PyWhatKit_DB.txt\")"
   ]
  },
  {
   "cell_type": "markdown",
   "id": "6879d068",
   "metadata": {},
   "source": [
    "# With Images\n",
    "---"
   ]
  },
  {
   "cell_type": "code",
   "execution_count": 10,
   "id": "6921d72a",
   "metadata": {},
   "outputs": [],
   "source": [
    "# === CONFIGURATION ===\n",
    "File_name = \"Jaras_NPC_with_images.csv\"\n",
    "phone_column = \"number\"\n",
    "image_column = \"image_name\"\n",
    "image_folder = \"input_images\"\n",
    "\n",
    "\n",
    "message_template = \"\"\"\\\n",
    "Halo {name}!\n",
    "\n",
    "Kami ingin mengucapkan terima kasih atas partisipasi Tim a.n. {name} dalam Schematics NPC 2024.\n",
    "\n",
    "Kami ingin memberikan sertifikat yang terlampir pada email:\n",
    "🔗 : *{email}*\n",
    "\n",
    "Salam,\n",
    "Kesekretariatan Schematics 2025\n",
    "\"\"\"\n",
    "\n",
    "# === SETTINGS ===\n",
    "wait_seconds = 12\n",
    "file_path = os.path.join(\"input_csv\", File_name)"
   ]
  },
  {
   "cell_type": "code",
   "execution_count": 11,
   "id": "d647c4cc",
   "metadata": {},
   "outputs": [
    {
     "name": "stdout",
     "output_type": "stream",
     "text": [
      "sent to +6281247312272 — Jaras_NPC_with_images.csv | Success - Message sent or in progress.\n",
      "sent to +628180831159 — Jaras_NPC_with_images.csv | ⚠️ Error - Number not registered on WhatsApp.\n",
      "sent to +6281227303969 — Jaras_NPC_with_images.csv | Success - Message sent or in progress.\n"
     ]
    }
   ],
   "source": [
    "with open(file_path, \"r\", encoding=\"utf-8\") as file:\n",
    "    reader = csv.DictReader(file)\n",
    "    for i, row in enumerate(reader):\n",
    "        if phone_column not in row or image_column not in row:\n",
    "            print(f\"ERROR: Missing column in row {i+1}\")\n",
    "            continue\n",
    "\n",
    "        number = fixNumber(row[phone_column])\n",
    "\n",
    "        try:\n",
    "            msg = message_template.format(**row)\n",
    "        except KeyError as e:\n",
    "            status = f\"ERROR: Missing column {e} in row {i+1}\"\n",
    "            print(f\"{status}\")\n",
    "            log_status(number, status)\n",
    "            continue\n",
    "        \n",
    "\n",
    "        image_path = os.path.join(image_folder, row[image_column])\n",
    "        if not os.path.exists(image_path):\n",
    "            status = f\"ERROR: Image not found: {image_path}\"\n",
    "            print(f\"{status}\")\n",
    "            log_status(number, status)\n",
    "            continue\n",
    "\n",
    "\n",
    "        try:\n",
    "            pw.sendwhats_image(\n",
    "                receiver=number,\n",
    "                img_path=image_path,\n",
    "                caption=msg,\n",
    "                wait_time=wait_seconds\n",
    "            )\n",
    "\n",
    "            time.sleep(5)\n",
    "            pyautogui.press('enter')\n",
    "\n",
    "            status = detect_whatsapp_error(File_name)\n",
    "\n",
    "            time.sleep(1.5)\n",
    "            pyautogui.hotkey('ctrl', 'w')\n",
    "            \n",
    "            print(f\"sent to {number} — {status}\")\n",
    "             \n",
    "        except Exception as e:\n",
    "            status = f\"ERROR: {e}\"\n",
    "            print(f\"Failed for {number} — {e}\")\n",
    "\n",
    "        log_status(number, status)\n",
    "\n",
    "# Cleanup\n",
    "if os.path.exists(\"PyWhatKit_DB.txt\"):\n",
    "    os.remove(\"PyWhatKit_DB.txt\")"
   ]
  },
  {
   "cell_type": "markdown",
   "id": "90e49811",
   "metadata": {},
   "source": []
  }
 ],
 "metadata": {
  "kernelspec": {
   "display_name": "Python 3",
   "language": "python",
   "name": "python3"
  },
  "language_info": {
   "codemirror_mode": {
    "name": "ipython",
    "version": 3
   },
   "file_extension": ".py",
   "mimetype": "text/x-python",
   "name": "python",
   "nbconvert_exporter": "python",
   "pygments_lexer": "ipython3",
   "version": "3.10.0"
  }
 },
 "nbformat": 4,
 "nbformat_minor": 5
}
