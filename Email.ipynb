{
 "cells": [
  {
   "cell_type": "markdown",
   "id": "a892002d",
   "metadata": {},
   "source": [
    "# ✨ Jaras Email ✨\n",
    "---"
   ]
  },
  {
   "cell_type": "code",
   "execution_count": null,
   "id": "22d361a0",
   "metadata": {},
   "outputs": [],
   "source": [
    "import csv\n",
    "import ssl\n",
    "import smtplib\n",
    "from email.message import EmailMessage\n",
    "from datetime import datetime\n",
    "from utils.email_utils import load_template\n",
    "import logging\n",
    "import os\n",
    "\n",
    "# === CONFIGURATION ===\n",
    "csv_path = \"Input/testing_email.csv\"\n",
    "template_path = \"templates/email_template.html\"\n",
    "subject = \"Pemberian Sertifikat Schematics NPC 2024\"\n",
    "\n",
    "\n",
    "email_sender = \"schematics2024@gmail.com\"\n",
    "email_password = \"_\"\n",
    "log_file = \"output/email_log.txt\"\n",
    "# ======================\n",
    " \n",
    "os.makedirs(os.path.dirname(log_file), exist_ok=True)\n",
    "logging.basicConfig(\n",
    "    filename=log_file,\n",
    "    level=logging.INFO,\n",
    "    format=\"[{asctime}] {levelname} - {message}\",\n",
    "    style='{',\n",
    "    datefmt=\"%Y-%m-%d %H:%M:%S\"\n",
    ")\n",
    "template = load_template(template_path)"
   ]
  },
  {
   "cell_type": "code",
   "execution_count": 6,
   "id": "694359eb",
   "metadata": {},
   "outputs": [],
   "source": [
    "with open(csv_path, \"r\", encoding=\"utf-8\") as data:\n",
    "    reader = csv.DictReader(data)\n",
    "    for i, row in enumerate(reader, start=1):\n",
    "        if \"email\" not in row:\n",
    "            logging.warning(f\"Row {i} missing 'email' field. Skipped.\")\n",
    "            continue\n",
    "\n",
    "        receiver_email = row[\"email\"].strip()\n",
    "        try:\n",
    "            msg = EmailMessage()\n",
    "            msg['From'] = email_sender\n",
    "            msg['To'] = receiver_email\n",
    "            msg['Subject'] = subject\n",
    "\n",
    "            personalized_body = template.format(**row)\n",
    "            msg.add_alternative(personalized_body, subtype='html')\n",
    "\n",
    "            context = ssl.create_default_context()\n",
    "            with smtplib.SMTP_SSL(\"smtp.gmail.com\", 465, context=context) as smtp:\n",
    "                smtp.login(email_sender, email_password)\n",
    "                smtp.sendmail(email_sender, receiver_email, msg.as_string())\n",
    "\n",
    "            logging.info(f\"{i}. Email sent to {receiver_email}\")\n",
    "        except KeyError as ke:\n",
    "            logging.error(f\"{i}. Missing column in template: {ke}\")\n",
    "        except Exception as e:\n",
    "            logging.error(f\"{i}. Failed to send to {receiver_email}: {e}\")"
   ]
  },
  {
   "cell_type": "code",
   "execution_count": null,
   "id": "d82a4d8d",
   "metadata": {},
   "outputs": [],
   "source": []
  }
 ],
 "metadata": {
  "kernelspec": {
   "display_name": "Python 3",
   "language": "python",
   "name": "python3"
  },
  "language_info": {
   "codemirror_mode": {
    "name": "ipython",
    "version": 3
   },
   "file_extension": ".py",
   "mimetype": "text/x-python",
   "name": "python",
   "nbconvert_exporter": "python",
   "pygments_lexer": "ipython3",
   "version": "3.10.0"
  }
 },
 "nbformat": 4,
 "nbformat_minor": 5
}
